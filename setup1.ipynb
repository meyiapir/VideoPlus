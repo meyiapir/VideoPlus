{
 "cells": [
  {
   "cell_type": "code",
   "execution_count": null,
   "id": "7a17a7a4-4567-4c9a-a1b4-ec0ac90a0c85",
   "metadata": {
    "scrolled": true
   },
   "outputs": [],
   "source": [
    "!git clone https://github.com/TencentARC/GFPGAN.git\n",
    "\n",
    "# Install basicsr - https://github.com/xinntao/BasicSR\n",
    "# We use BasicSR for both training and inference\n",
    "!pip install basicsr\n",
    "\n",
    "# Install facexlib - https://github.com/xinntao/facexlib\n",
    "# We use face detection and face restoration helper in the facexlib package\n",
    "!pip install facexlib\n",
    "\n",
    "!pip install -r GFPGAN/requirements.txt\n",
    "!python setup.py develop\n",
    "\n",
    "# If you want to enhance the background (non-face) regions with Real-ESRGAN,\n",
    "# you also need to install the realesrgan package\n",
    "!pip install realesrgan\n",
    "\n",
    "!wget https://github.com/TencentARC/GFPGAN/releases/download/v1.3.0/GFPGANv1.3.pth -P GFPGAN/experiments/pretrained_models\n",
    "\n",
    "\n",
    "!mkdir test_videos input_videos results_videos done\n",
    "!mkdir results_videos/restored_imgs\n",
    "\n",
    "!pip3 install torch torchvision torchaudio moviepy opencv-python\n",
    "!pip3 install --upgrade google-api-python-client google-auth google-auth-oauthlib google-auth-httplib2"
   ]
  },
  {
   "cell_type": "code",
   "execution_count": 2,
   "id": "43e012e5-fab0-4bc6-9b46-2df49799477c",
   "metadata": {},
   "outputs": [
    {
     "name": "stdout",
     "output_type": "stream",
     "text": [
      "CUDA available: True\n",
      "Device name: NVIDIA GeForce RTX 3090\n"
     ]
    }
   ],
   "source": [
    "import torch\n",
    "print(\"CUDA available:\" , torch.cuda.is_available())\n",
    "print(\"Device name:\", torch.cuda.get_device_name(0))"
   ]
  }
 ],
 "metadata": {
  "kernelspec": {
   "display_name": "Python 3 (ipykernel)",
   "language": "python",
   "name": "python3"
  },
  "language_info": {
   "codemirror_mode": {
    "name": "ipython",
    "version": 3
   },
   "file_extension": ".py",
   "mimetype": "text/x-python",
   "name": "python",
   "nbconvert_exporter": "python",
   "pygments_lexer": "ipython3",
   "version": "3.10.6"
  }
 },
 "nbformat": 4,
 "nbformat_minor": 5
}
